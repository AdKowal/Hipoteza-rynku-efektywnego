{
 "cells": [
  {
   "cell_type": "markdown",
   "metadata": {},
   "source": [
    "# Badanie efektywności rynku kapitałowego oraz efektu dywidendy w Polsce\n",
    "## <div style=\"text-align: center;\">Cel pracy</div>\n",
    "Celem niniejszej pracy jest sprawdzenie występowania hipotezy słabej efektywności informacyjnej dla rynku akcji w Polsce. Została ona zbadana dla indeksów WIG i sWIG80TR, na bazie danych ze strony stooq.pl, przy założonym poziomie istotności 5%. Ponadto zostały zbadane dwie anomalie rynkowe:\n",
    "1. Efekt małych firm - został zbadany na indeksie sWIG80TR w porównaniu do WIG-a.\n",
    "2. Efekt dywidendy - został zbadany na dwóch wybranych spółkach, o małej i dużej kapitalizacji.\n"
   ]
  },
  {
   "cell_type": "markdown",
   "metadata": {},
   "source": [
    "## <div style=\"text-align: center;\">Wstęp</div>\n",
    "Pojęcie rynku efektywnego stanowi obecnie podstawowy model teoretyczny do którego odwołują się badacze rynków finansowych. Rynek w pełni efektywny stanowi weberowski typ idealny - nie występujący w rzeczywistości, ale stanowiący wzorzec służący do badania danego zjawiska. Koncepcja ta pełni w finansach podobną funkcję jak idea konkurencji doskonałej w mikroekonomii. Efektywność rynku jest badana na trzech płaszczyznach: informacyjnej, alokacyjnej i transakcyjnej. Najczęściej badana jest efektywność informacyjna, która występuje gdy szybki transfer informacji do wszystkich uczestników rynku powoduje, że wiadomości są niezwłocznie i w pełni uwzględnione w cenie papierów wartościowych. Skutkiem tego notowania mają zawsze odzwierciedlać rzeczywistą wartość w aktywów. Rynek efektywny w zakresie alokacyjnym zachodzi, gdy możliwość pozyskania kapitału jest możliwa tylko dla najbardziej rentownych uczestników rynku. Natomiast transakcyjna efektywność rynku oznacza, że koszty transakcji są minimalizowane, a czas ich zawarcia jest możliwie krótki.\n",
    "\n",
    "\n",
    "Twórcą teorii rynku efektywnego jest Eugene Fama, który dokonał rozróżnienia na 3 stopnie efektywności rynku: słabą, średnią i silną. Słaba efektywność rynku zachodzi, gdy ceny uwzględniają wszystkie informacje zawarte w poprzednich cenach, czego skutkiem jest brak skuteczności analizy technicznej. Średnia efektywność rynku występuje gdy wyceniane są wszystkie publiczne informacje. Pojawienie się średniej efektywności rynku uniemożliwia skuteczność również analizy fundamentalnej. Natomiast silna efektywność rynku zakłada, że wszystkie - również tajne informacje - są zawarte w wycenie instrumentów finansowych. Oznacza to, że nie jest możliwe osiąganie ponadprzeciętnych zysków. W takiej sytuacji jedyną racjonalną strategią inwestycyjną byłoby inwestowanie pasywne - technicznie oparte o ETF-y(1). W dotychczasowych badaniach najczęściej przyjmuje się za możliwą do osiągnięcia jedynie słabą efektywność rynku, odrzuca się także możliwość istnienia silnej efektywności rynku(2). Perspektywa na zaistnienie średniej efektywności rynku budzi kontrowersje. Zgodnie z hipotezą efektywności rynków wszelkie ponadprzeciętne zyski wynikają z anomalii lub przypadku.\n",
    "\n",
    "(1): Dla inwestorów indywidualnych inwestowanie pasywne, jako jedyne skuteczne zachodzi już na średnio efektywnym rynku, ponieważ nie dysponują danymi niejawnymi.\n",
    "\n",
    "(2): Myślę, że istnienie silnej efektywności rynku jest nie tylko niemożliwe, ale paradoksalnie występowanie silnej efektywności rynku prawdopodobnie doprowadziłoby do powstania nieefektywności. Jeśli inwestowanie pasywne w oparciu o ETF-y na szeroki rynek byłoby jedyną skuteczną strategią, wycena poszczególnych instrumentów w ramach indeksów i tak zależałaby od inwestorów aktywnych, próbujących pokonać rynek, co potencjalnie mogłoby rodzić kolejne anomalie rynkowe, obecnie jeszcze nie występujące albo przywróciłoby stare."
   ]
  },
  {
   "cell_type": "markdown",
   "metadata": {},
   "source": [
    "## <div style=\"text-align: center;\">Anomalie rynkowe w Polsce</div>\n",
    "Poza ogólnym badaniem efektywności informacyjnej zostało zbadane występowanie dwóch szczególnych rodzajów anomalii na rynku polskim: efekt małych firm i efekt dywidend.\n",
    "\n",
    "Efekt małych firm - jest to zaburzenie obserwowane, gdy małe spółki notują ponadprzeciętnie stopy zwrotu oraz kiedy firmy w miarę wzrostu osiągają coraz niższe stopy zwrotu. Istnieją następujące wyjaśnienia tej anomalii:\n",
    "1. Małe firmy często są lekceważone przez rynek - tym samym pojawia się na ich temat mniej informacji, więc wiedza o nich staje się mniej dostępna. To z kolei powoduje, że są postrzegane jako bardziej ryzykowne, i inwestorzy oczekują większych stóp zwrotu.\n",
    "2. Akcje małych spółek są mniej płynne na giełdach, a tym samym ciężej jest wyjść z inwestycji, dlatego inwestorzy oczekują wyższych zysków.\n",
    "W kontekście rynku polskiego powinniśmy uwzględnić również stopień etatyzacji na GPW. Największe notowane spółki są zazwyczaj państwowe, a przez to wykorzystywane do celów politycznych zamiast maksymalizacji zysku. Na dzień 26.11.2022 w indeksie WIG20 znajduje się 7 spółek państwowych(3), w tym 4 z 5 o największej kapitalizacji. Małe spółki notowane na giełdzie są głównie prywatne.\n",
    "\n",
    "Efekt dywidendy został sformułowany gdy zaobserwowano, że spółki które informowały inwestorów o rozpoczęciu wypłacania dywidendy lub jej zwiększeniu notowały wyższe stopy zwrotu w kolejnych latach w porównaniu do spółek informujących o zaniechaniu lub zmniejszeniu dywidendy. Przyczyną tego zaburzenia może być:\n",
    "1. Kreatywna księgowość - inwestorzy mający wiedzę księgową mogą podchodzić sceptycznie do informacji ze sprawozdań finansowych takich jak zysk czy wartość aktywów podawanych przez spółki. Jeśli jednak firma dzieli się zyskiem z inwestorami może być to odbierane jako sygnał, że spółka generuje realne zyski.\n",
    "2. Pasywny dochód - część inwestorów dąży do uzyskania pasywnego dochodu, przez co będą oni preferowali inwestycje w aktywa generujące stałe przepływy pieniężne, takie jak nieruchomości czy spółki dywidendowe.\n",
    "Jako lokalny czynnik występujący w Polsce należy brać pod uwagę, że inwestowanie przez IKE podatkowo sprzyja inwestowaniu dywidendowemu przez polskiego inwestora, w Polsce i krajach niemających podatku u źródła (np. w Wielkiej Brytanii). Wartość inwestycji przez IKE za pośrednictwem domów maklerskich w 2021 roku wynosiła 3 251,6 mln zł wg. raportu KNF(4).\n",
    "\n",
    "(3): Wg. raportu ministerstwa aktywów państwowych w grudniu 2021 roku na GPW było notowanych 17 spółek skarbu państwa.\n",
    "\n",
    "(4): Na marginesie warto wspomnieć, że z podatkowego punktu widzenia IKE sprzyja również najbardziej agresywnym strategiom opartym o większą ilość transakcji."
   ]
  },
  {
   "cell_type": "markdown",
   "metadata": {},
   "source": [
    "## <div style=\"text-align: center;\">Hipoteza słabej efektywności rynku</div>\n",
    "Do badania hipotezy słabej efektywności rynku użyto indeksów WIG i sWIG80TR. Ponieważ WIG jest wskaźnikiem dochodowym, dlatego zamiastindeksu cenowego sWIG80, należało w badaniu uwzględnić indeks sWIG80TR. Jest on obliczany dopiero od 18 września 2017 roku, jednak GPW przeliczyła jego wartość na okres od 31 grudnia 2009 roku. Pobrano dla okresu 31.12.2009 - 31.10.2022 z interwałem tygodniowym. Do obliczenia stóp zwrotu metodą logarytmiczną posłużyły dane otwarcia. W celu zbadania hipotezy słabej efektywności rynku przeprowadzono poniższe testy: \n",
    "1. Test serii - sprawdzający czy stopy zwrotu mają rozkład losowy.\n",
    "2. Test PACF - weryfikujący występowanie autokorelacji stóp zwrotu.\n",
    "3. Test ilorazu wariancji - który określa czy stopy zwrotu mają własności błądzenia losowego."
   ]
  },
  {
   "cell_type": "code",
   "execution_count": 61,
   "metadata": {},
   "outputs": [],
   "source": [
    "import pandas as pd\n",
    "import matplotlib.pyplot as plt\n",
    "import statsmodels.api as sm\n",
    "import numpy as np\n",
    "import scipy.stats as stats\n",
    "from statsmodels.sandbox.stats.runs import runstest_1samp\n",
    "from statsmodels.tsa.stattools import pacf\n",
    "from datetime import timedelta"
   ]
  },
  {
   "cell_type": "code",
   "execution_count": 62,
   "metadata": {},
   "outputs": [
    {
     "data": {
      "text/html": [
       "<div>\n",
       "<style scoped>\n",
       "    .dataframe tbody tr th:only-of-type {\n",
       "        vertical-align: middle;\n",
       "    }\n",
       "\n",
       "    .dataframe tbody tr th {\n",
       "        vertical-align: top;\n",
       "    }\n",
       "\n",
       "    .dataframe thead th {\n",
       "        text-align: right;\n",
       "    }\n",
       "</style>\n",
       "<table border=\"1\" class=\"dataframe\">\n",
       "  <thead>\n",
       "    <tr style=\"text-align: right;\">\n",
       "      <th></th>\n",
       "      <th>Data</th>\n",
       "      <th>WIG</th>\n",
       "      <th>sWIG80TR</th>\n",
       "    </tr>\n",
       "  </thead>\n",
       "  <tbody>\n",
       "    <tr>\n",
       "      <th>0</th>\n",
       "      <td>2010-01-03</td>\n",
       "      <td>40025.1</td>\n",
       "      <td>11090.93</td>\n",
       "    </tr>\n",
       "    <tr>\n",
       "      <th>1</th>\n",
       "      <td>2010-01-10</td>\n",
       "      <td>40156.1</td>\n",
       "      <td>11255.61</td>\n",
       "    </tr>\n",
       "    <tr>\n",
       "      <th>2</th>\n",
       "      <td>2010-01-17</td>\n",
       "      <td>41223.1</td>\n",
       "      <td>11474.70</td>\n",
       "    </tr>\n",
       "    <tr>\n",
       "      <th>3</th>\n",
       "      <td>2010-01-24</td>\n",
       "      <td>41029.2</td>\n",
       "      <td>11643.64</td>\n",
       "    </tr>\n",
       "    <tr>\n",
       "      <th>4</th>\n",
       "      <td>2010-01-31</td>\n",
       "      <td>40410.4</td>\n",
       "      <td>11471.77</td>\n",
       "    </tr>\n",
       "  </tbody>\n",
       "</table>\n",
       "</div>"
      ],
      "text/plain": [
       "        Data      WIG  sWIG80TR\n",
       "0 2010-01-03  40025.1  11090.93\n",
       "1 2010-01-10  40156.1  11255.61\n",
       "2 2010-01-17  41223.1  11474.70\n",
       "3 2010-01-24  41029.2  11643.64\n",
       "4 2010-01-31  40410.4  11471.77"
      ]
     },
     "execution_count": 62,
     "metadata": {},
     "output_type": "execute_result"
    }
   ],
   "source": [
    "dane_1 = pd.read_excel(\"Dane.xlsx\", sheet_name=\"dane_1\")\n",
    "dane_1.head()"
   ]
  },
  {
   "cell_type": "code",
   "execution_count": 63,
   "metadata": {},
   "outputs": [
    {
     "data": {
      "text/html": [
       "<div>\n",
       "<style scoped>\n",
       "    .dataframe tbody tr th:only-of-type {\n",
       "        vertical-align: middle;\n",
       "    }\n",
       "\n",
       "    .dataframe tbody tr th {\n",
       "        vertical-align: top;\n",
       "    }\n",
       "\n",
       "    .dataframe thead th {\n",
       "        text-align: right;\n",
       "    }\n",
       "</style>\n",
       "<table border=\"1\" class=\"dataframe\">\n",
       "  <thead>\n",
       "    <tr style=\"text-align: right;\">\n",
       "      <th></th>\n",
       "      <th>Data</th>\n",
       "      <th>WIG</th>\n",
       "      <th>sWIG80TR</th>\n",
       "      <th>rWIG</th>\n",
       "      <th>rsWIG80TR</th>\n",
       "    </tr>\n",
       "  </thead>\n",
       "  <tbody>\n",
       "    <tr>\n",
       "      <th>1</th>\n",
       "      <td>2010-01-10</td>\n",
       "      <td>40156.1</td>\n",
       "      <td>11255.61</td>\n",
       "      <td>0.003268</td>\n",
       "      <td>0.014739</td>\n",
       "    </tr>\n",
       "    <tr>\n",
       "      <th>2</th>\n",
       "      <td>2010-01-17</td>\n",
       "      <td>41223.1</td>\n",
       "      <td>11474.70</td>\n",
       "      <td>0.026224</td>\n",
       "      <td>0.019278</td>\n",
       "    </tr>\n",
       "    <tr>\n",
       "      <th>3</th>\n",
       "      <td>2010-01-24</td>\n",
       "      <td>41029.2</td>\n",
       "      <td>11643.64</td>\n",
       "      <td>-0.004715</td>\n",
       "      <td>0.014615</td>\n",
       "    </tr>\n",
       "    <tr>\n",
       "      <th>4</th>\n",
       "      <td>2010-01-31</td>\n",
       "      <td>40410.4</td>\n",
       "      <td>11471.77</td>\n",
       "      <td>-0.015197</td>\n",
       "      <td>-0.014871</td>\n",
       "    </tr>\n",
       "    <tr>\n",
       "      <th>5</th>\n",
       "      <td>2010-02-07</td>\n",
       "      <td>39828.6</td>\n",
       "      <td>11501.34</td>\n",
       "      <td>-0.014502</td>\n",
       "      <td>0.002574</td>\n",
       "    </tr>\n",
       "  </tbody>\n",
       "</table>\n",
       "</div>"
      ],
      "text/plain": [
       "        Data      WIG  sWIG80TR      rWIG  rsWIG80TR\n",
       "1 2010-01-10  40156.1  11255.61  0.003268   0.014739\n",
       "2 2010-01-17  41223.1  11474.70  0.026224   0.019278\n",
       "3 2010-01-24  41029.2  11643.64 -0.004715   0.014615\n",
       "4 2010-01-31  40410.4  11471.77 -0.015197  -0.014871\n",
       "5 2010-02-07  39828.6  11501.34 -0.014502   0.002574"
      ]
     },
     "execution_count": 63,
     "metadata": {},
     "output_type": "execute_result"
    }
   ],
   "source": [
    "dane_1[\"rWIG\"] = np.log(dane_1.iloc[:,1] / dane_1.iloc[:,1].shift(1))\n",
    "dane_1[\"rsWIG80TR\"] = np.log(dane_1.iloc[:,2] / dane_1.iloc[:,2].shift(1))\n",
    "dane_1 = dane_1.dropna()\n",
    "dane_1.head()"
   ]
  },
  {
   "cell_type": "code",
   "execution_count": 64,
   "metadata": {},
   "outputs": [
    {
     "data": {
      "text/html": [
       "<div>\n",
       "<style scoped>\n",
       "    .dataframe tbody tr th:only-of-type {\n",
       "        vertical-align: middle;\n",
       "    }\n",
       "\n",
       "    .dataframe tbody tr th {\n",
       "        vertical-align: top;\n",
       "    }\n",
       "\n",
       "    .dataframe thead th {\n",
       "        text-align: right;\n",
       "    }\n",
       "</style>\n",
       "<table border=\"1\" class=\"dataframe\">\n",
       "  <thead>\n",
       "    <tr style=\"text-align: right;\">\n",
       "      <th></th>\n",
       "      <th>Data</th>\n",
       "      <th>WIG</th>\n",
       "      <th>sWIG80TR</th>\n",
       "      <th>rWIG</th>\n",
       "      <th>rsWIG80TR</th>\n",
       "      <th>serie_WIG</th>\n",
       "      <th>serie_sWIG80</th>\n",
       "    </tr>\n",
       "  </thead>\n",
       "  <tbody>\n",
       "    <tr>\n",
       "      <th>1</th>\n",
       "      <td>2010-01-10</td>\n",
       "      <td>40156.1</td>\n",
       "      <td>11255.61</td>\n",
       "      <td>0.003268</td>\n",
       "      <td>0.014739</td>\n",
       "      <td>1</td>\n",
       "      <td>1</td>\n",
       "    </tr>\n",
       "    <tr>\n",
       "      <th>2</th>\n",
       "      <td>2010-01-17</td>\n",
       "      <td>41223.1</td>\n",
       "      <td>11474.70</td>\n",
       "      <td>0.026224</td>\n",
       "      <td>0.019278</td>\n",
       "      <td>1</td>\n",
       "      <td>1</td>\n",
       "    </tr>\n",
       "    <tr>\n",
       "      <th>3</th>\n",
       "      <td>2010-01-24</td>\n",
       "      <td>41029.2</td>\n",
       "      <td>11643.64</td>\n",
       "      <td>-0.004715</td>\n",
       "      <td>0.014615</td>\n",
       "      <td>0</td>\n",
       "      <td>1</td>\n",
       "    </tr>\n",
       "    <tr>\n",
       "      <th>4</th>\n",
       "      <td>2010-01-31</td>\n",
       "      <td>40410.4</td>\n",
       "      <td>11471.77</td>\n",
       "      <td>-0.015197</td>\n",
       "      <td>-0.014871</td>\n",
       "      <td>0</td>\n",
       "      <td>0</td>\n",
       "    </tr>\n",
       "    <tr>\n",
       "      <th>5</th>\n",
       "      <td>2010-02-07</td>\n",
       "      <td>39828.6</td>\n",
       "      <td>11501.34</td>\n",
       "      <td>-0.014502</td>\n",
       "      <td>0.002574</td>\n",
       "      <td>0</td>\n",
       "      <td>1</td>\n",
       "    </tr>\n",
       "  </tbody>\n",
       "</table>\n",
       "</div>"
      ],
      "text/plain": [
       "        Data      WIG  sWIG80TR      rWIG  rsWIG80TR  serie_WIG  serie_sWIG80\n",
       "1 2010-01-10  40156.1  11255.61  0.003268   0.014739          1             1\n",
       "2 2010-01-17  41223.1  11474.70  0.026224   0.019278          1             1\n",
       "3 2010-01-24  41029.2  11643.64 -0.004715   0.014615          0             1\n",
       "4 2010-01-31  40410.4  11471.77 -0.015197  -0.014871          0             0\n",
       "5 2010-02-07  39828.6  11501.34 -0.014502   0.002574          0             1"
      ]
     },
     "execution_count": 64,
     "metadata": {},
     "output_type": "execute_result"
    }
   ],
   "source": [
    "dane_1.loc[:, \"serie_WIG\"] = dane_1.loc[:, \"rWIG\"].apply(lambda x: 1 if x > 0 else 0)\n",
    "dane_1.loc[:, \"serie_sWIG80\"] = dane_1.loc[:,\"rsWIG80TR\"].apply(lambda x: 1 if x > 0 else 0)\n",
    "dane_1.head()"
   ]
  },
  {
   "cell_type": "markdown",
   "metadata": {},
   "source": [
    "#### Test serii (Walda-Wolfowitza) - losowości próby. \n",
    "Hipotezy:\n",
    "\n",
    "H0: próba jest losowa\n",
    "\n",
    "H1: próba nie jest losowa"
   ]
  },
  {
   "cell_type": "code",
   "execution_count": 92,
   "metadata": {},
   "outputs": [
    {
     "name": "stdout",
     "output_type": "stream",
     "text": [
      "WIG wartość-p: 0.3929171367564154\n",
      "WIG80TR wartość-p: 7.358294028701066e-06\n"
     ]
    }
   ],
   "source": [
    "print(f\"WIG wartość-p: {runstest_1samp(dane_1.iloc[:,-2])[1]}\")\n",
    "print(f\"WIG80TR wartość-p: {runstest_1samp(dane_1.iloc[:,-1])[1]}\")"
   ]
  },
  {
   "cell_type": "markdown",
   "metadata": {},
   "source": [
    "Test serii dla indeksu WIG wykazał, że nie mamy podstaw do odrzucenia hipotezy zerowej, tym samym możemy przyjąć że stopy zwrotu mają charakter losowy. Z kolei w przypadku sWIG80TR wartość-p jest niższa od poziomu istotności, co oznacza że mamy podstawy do odrzucenia hipotezy zerowej i musimy przyjąć, że stopy zwrotu dla małych spółek nie mają charakteru losowego losowego."
   ]
  },
  {
   "cell_type": "markdown",
   "metadata": {},
   "source": [
    "#### Test PACF - test autokorelacji cząstkowej. \n",
    "Hipotezy:\n",
    "\n",
    "H0: Autokorelacja cząstkowa jest nieistotnie różna od 0 dla wszystkich opóźnień.\n",
    "\n",
    "H1: Autokorelacja cząstkowa jest istotnie różna od 0 dla co najmniej jednego opóźnienia."
   ]
  },
  {
   "cell_type": "code",
   "execution_count": 93,
   "metadata": {},
   "outputs": [
    {
     "name": "stderr",
     "output_type": "stream",
     "text": [
      "d:\\Nowy folder\\lib\\site-packages\\statsmodels\\graphics\\tsaplots.py:348: FutureWarning: The default method 'yw' can produce PACF values outside of the [-1,1] interval. After 0.13, the default will change tounadjusted Yule-Walker ('ywm'). You can use this method now by setting method='ywm'.\n",
      "  warnings.warn(\n"
     ]
    },
    {
     "data": {
      "image/png": "[encoded data removed]",
      "text/plain": [
       "<Figure size 1400x500 with 2 Axes>"
      ]
     },
     "metadata": {},
     "output_type": "display_data"
    }
   ],
   "source": [
    "fig, ax = plt.subplots(1, 2, figsize = (14, 5), sharey=True)\n",
    "\n",
    "sm.graphics.tsa.plot_pacf(dane_1.loc[:, \"rWIG\"], \n",
    "                          lags=28, \n",
    "                          zero=False, \n",
    "                          ax=ax[0])\n",
    "sm.graphics.tsa.plot_pacf(dane_1.loc[:, \"rsWIG80TR\"], \n",
    "                          lags=28, \n",
    "                          zero=False, \n",
    "                          ax=ax[1])\n",
    "plt.ylim([-0.2, 0.2])\n",
    "plt.show()"
   ]
  },
  {
   "cell_type": "markdown",
   "metadata": {},
   "source": [
    "Testy PACF wykazały że zarówno w przypadku szerokiego rynku akcji jak i akcji małych spółek giełdowych w Polsce istnieją istotne autokorelacje cząstkowe. W przypadku indeksu WIG istotne okazały się korelacje z wartościami sprzed 2 i 3 tygodni, natomiast dla sWIG80TR znaczące były korelacje sprzed 1, 2, 12 i 13 tygodni."
   ]
  },
  {
   "cell_type": "markdown",
   "metadata": {},
   "source": [
    "#### Test ilorazu wariancji\n",
    "Hipotezy:\n",
    "\n",
    "H0: Iloraz wariancji jest bliski jedności, co oznacza że mamy do czynienia z błądzeniem losowym.\n",
    "\n",
    "H1: Iloraz wariancji jest istotnie różny od jedności, a zatem nie występuje błądzenie losowe.\n",
    "\n",
    "Ten warian testu częściowo bazuje na metodzie stosowanej przez Annę Górską i Monikę Krawiec we wskazanym w bibliografii artykule. W przeciwieństwie do autorek zamiast rozkładu normalnego wykorzystano warian testu z rozkładem F i bez normalizacji ilorazu wariancji. W tej kwestii metodę wzorowano na rozwiązaniach stosowanych w gretlu.\n",
    "\n",
    "Wzór na wartość testu ilorazu wariancji drugiego rzędu:"
   ]
  },
  {
   "cell_type": "markdown",
   "metadata": {},
   "source": [
    "![Wzór](wzór.png)\n",
    "gdzie:\n",
    "\n",
    "R<sub>t</sub>, R<sub>t+1</sub> - dwie sąsiednie stopy zwrotu.\n",
    "\n",
    "źródło: A. Górska, M. Krawiec, *Badanie efektywności informacyjnej w formie słabej na rynku metali szlachetnych*, Zeszyty Naukowe Uniwersytetu Szczecińskiego, nr 768, 2013, s. 149."
   ]
  },
  {
   "cell_type": "code",
   "execution_count": 94,
   "metadata": {},
   "outputs": [],
   "source": [
    "def test_iloraz (dane, okres, alfa):\n",
    "    w = dane.var() #wariancja danych podstawowych\n",
    "    n = len(dane) #całkowita populacja\n",
    "    dq = sum(dane.shift(i) for i in range(okres + 1)) #suma stóp zwrotu zda wybranej liczby okresów\n",
    "    wq = dq.dropna().var() #wariancja sąsiednich stóp zworotu\n",
    "    n1 = len(dq.dropna())\n",
    "    iw = wq/(w*(okres+1)) #statystyka testowa\n",
    "    wk = stats.f.ppf(1 - (alfa/2), n1-1, n-1) #wartość krytyczna\n",
    "    p = stats.f.sf(iw,667,669)*2 #wartość p\n",
    "    return iw, p"
   ]
  },
  {
   "cell_type": "code",
   "execution_count": 69,
   "metadata": {},
   "outputs": [
    {
     "name": "stdout",
     "output_type": "stream",
     "text": [
      "Rząd testu: 2, Statystyka testu WIG: 1.0555058727672648, wartość-p: 0.4852786102659102\n",
      "Rząd testu: 3, Statystyka testu WIG: 1.127125720434346, wartość-p: 0.12221788594735183\n",
      "Rząd testu: 4, Statystyka testu WIG: 1.1277877872642688, wartość-p: 0.12039677892490891\n",
      "Rząd testu: 2, Statystyka testu sWIG80TR: 1.1027619331293106, wartość-p: 0.20643505788725638\n",
      "Rząd testu: 3, Statystyka testu sWIG80TR: 1.2350709528964474, wartość-p: 0.006429899285759117\n",
      "Rząd testu: 4, Statystyka testu sWIG80TR: 1.320620705286555, wartość-p: 0.00033444748798137154\n"
     ]
    }
   ],
   "source": [
    "wyniki_iw = pd.DataFrame(columns = [\"Rząd testu\", \"Statystyka testu WIG\", \n",
    "                                    \"Statystyka testu sWIG80TR\", \"wartość-p (WIG)\", \n",
    "                                    \"wartość-p (sWIG80)\"])\n",
    "for q in range (1, 4):\n",
    "    t = test_iloraz(dane_1.loc[:, \"rWIG\"], q, 0.05)\n",
    "    print(f\"Rząd testu: {q+1}, Statystyka testu WIG: {t[0]}, wartość-p: {t[1]}\")\n",
    "for q in range (1, 4):\n",
    "    t = test_iloraz(dane_1.loc[:, \"rsWIG80TR\"], q, 0.05)\n",
    "    print(f\"Rząd testu: {q+1}, Statystyka testu sWIG80TR: {t[0]}, wartość-p: {t[1]}\")"
   ]
  },
  {
   "cell_type": "markdown",
   "metadata": {},
   "source": [
    "Test wykonano dla rzędów 2, 3 i 4. W przypadku indeksu szerokiego rynku nie mamy podstaw do odrzucenia hipotezy zerowej, tym samym możemy uznać że zmiany wartości indeksu WIG mają charakter błądzenia losowego. Tymczasem wyniki testów 3 i 4 rzędu dla małych spółek dają podstawy do odrzucenia hipotezy zerowej, a zatem notowania sWIG-u nie mają charakteru błądzenia losowego.\n",
    "\n",
    "Szerokie rynek akcji w badanym okresie nie przeszedł jedynie testu na istotność autokorelacji. Natomiast w przypadku sWIG80 testy podważyły występowanie słabej efektywności informacyjnej rynku na każdym polu. Zatem możemy uznać że słaba efektywność informacyjna rynku nie występowała w Polsce w badanym okresie."
   ]
  },
  {
   "cell_type": "markdown",
   "metadata": {},
   "source": [
    "## <div style=\"text-align: center;\">Anomalie małych spółek</div>\n",
    "Do badania anomalii małych spółek również zostały wykorzystane dane dla indeksów WIG i sWIG80TR. "
   ]
  },
  {
   "cell_type": "code",
   "execution_count": 70,
   "metadata": {},
   "outputs": [
    {
     "data": {
      "text/html": [
       "<div>\n",
       "<style scoped>\n",
       "    .dataframe tbody tr th:only-of-type {\n",
       "        vertical-align: middle;\n",
       "    }\n",
       "\n",
       "    .dataframe tbody tr th {\n",
       "        vertical-align: top;\n",
       "    }\n",
       "\n",
       "    .dataframe thead th {\n",
       "        text-align: right;\n",
       "    }\n",
       "</style>\n",
       "<table border=\"1\" class=\"dataframe\">\n",
       "  <thead>\n",
       "    <tr style=\"text-align: right;\">\n",
       "      <th></th>\n",
       "      <th>rWIG</th>\n",
       "      <th>rsWIG80TR</th>\n",
       "    </tr>\n",
       "  </thead>\n",
       "  <tbody>\n",
       "    <tr>\n",
       "      <th>count</th>\n",
       "      <td>670.000000</td>\n",
       "      <td>670.000000</td>\n",
       "    </tr>\n",
       "    <tr>\n",
       "      <th>mean</th>\n",
       "      <td>0.000323</td>\n",
       "      <td>0.001070</td>\n",
       "    </tr>\n",
       "    <tr>\n",
       "      <th>std</th>\n",
       "      <td>0.024854</td>\n",
       "      <td>0.021659</td>\n",
       "    </tr>\n",
       "    <tr>\n",
       "      <th>min</th>\n",
       "      <td>-0.224371</td>\n",
       "      <td>-0.190257</td>\n",
       "    </tr>\n",
       "    <tr>\n",
       "      <th>25%</th>\n",
       "      <td>-0.010869</td>\n",
       "      <td>-0.009074</td>\n",
       "    </tr>\n",
       "    <tr>\n",
       "      <th>50%</th>\n",
       "      <td>0.001664</td>\n",
       "      <td>0.003031</td>\n",
       "    </tr>\n",
       "    <tr>\n",
       "      <th>75%</th>\n",
       "      <td>0.014630</td>\n",
       "      <td>0.012717</td>\n",
       "    </tr>\n",
       "    <tr>\n",
       "      <th>max</th>\n",
       "      <td>0.107056</td>\n",
       "      <td>0.079835</td>\n",
       "    </tr>\n",
       "  </tbody>\n",
       "</table>\n",
       "</div>"
      ],
      "text/plain": [
       "             rWIG   rsWIG80TR\n",
       "count  670.000000  670.000000\n",
       "mean     0.000323    0.001070\n",
       "std      0.024854    0.021659\n",
       "min     -0.224371   -0.190257\n",
       "25%     -0.010869   -0.009074\n",
       "50%      0.001664    0.003031\n",
       "75%      0.014630    0.012717\n",
       "max      0.107056    0.079835"
      ]
     },
     "execution_count": 70,
     "metadata": {},
     "output_type": "execute_result"
    }
   ],
   "source": [
    "dane_1.iloc[:,3:5].describe()"
   ]
  },
  {
   "cell_type": "code",
   "execution_count": 104,
   "metadata": {},
   "outputs": [
    {
     "name": "stdout",
     "output_type": "stream",
     "text": [
      "1.69 %\n",
      "5.72 %\n"
     ]
    }
   ],
   "source": [
    "print(f\"{round(((1+0.000323)**52-1)*100,2)} %\")\n",
    "print(f\"{round(((1+0.001070)**52-1)*100,2)} %\")"
   ]
  },
  {
   "cell_type": "markdown",
   "metadata": {},
   "source": [
    "Mniejsze spółki w badanym okresie notowały średnio wyższą stopę zwrotu od szerokiego rynku akcji. W skali roku spółki małe notowały ok. 5,72% stopę zwrotu gdy szeroki rynek ok. 1,69%. Interesującym jest fakt, że małe spółki przy wyższej średniej stopie zwrotu notowały niższe ryzyko (odchylenie standardowe) niż szeroki rynek. Również wartości minimalne i maksymalne w przypadku spółek małych posiadały niższy interwał niż szeroki rynek akcji."
   ]
  },
  {
   "cell_type": "markdown",
   "metadata": {},
   "source": [
    "#### Test Kołmogorowa-Smirnowa\n",
    "Aby sprawdzić czy zmienne można porównać przy pomocy średniej przeprowadzono test Kołmogorowa-Smirnowa, na dystrybujcę rozkładu normalnego. Test sprawdza następujące hipotezy:\n",
    "\n",
    "H0: Dane pochodzą z rozkładu normalnego\n",
    "\n",
    "H1: Dane nie pochodzą z rozkładu normalnego"
   ]
  },
  {
   "cell_type": "code",
   "execution_count": 71,
   "metadata": {},
   "outputs": [
    {
     "name": "stdout",
     "output_type": "stream",
     "text": [
      "KstestResult(statistic=0.4721891081351758, pvalue=1.289395125211994e-137)\n",
      "KstestResult(statistic=0.4749522006639709, pvalue=2.5156365903594436e-139)\n"
     ]
    }
   ],
   "source": [
    "print(stats.kstest(dane_1.iloc[:,3], 'norm'))\n",
    "print(stats.kstest(dane_1.iloc[:,4], 'norm'))"
   ]
  },
  {
   "cell_type": "markdown",
   "metadata": {},
   "source": [
    "Rozkłady stóp zwrotu obu zmiennych nie są zbliżone do rozkładu normalego, co oznacza że nie powinniśmy używać do ich porównania metod parametrycznych. Dlatego w dalszej części zostaną porównane rozkłady stóp zwrotu."
   ]
  },
  {
   "cell_type": "markdown",
   "metadata": {},
   "source": [
    "#### Test rangowy U Manna–Whitneya\n",
    "Hipotezy testu:\n",
    "\n",
    "H0: Rozkład obu populacji jest nieistotnie różny.\n",
    "\n",
    "H1: Rozkład obu populacji jest istotnie różny."
   ]
  },
  {
   "cell_type": "code",
   "execution_count": 105,
   "metadata": {},
   "outputs": [
    {
     "data": {
      "text/plain": [
       "MannwhitneyuResult(statistic=221324.0, pvalue=0.6590053826290092)"
      ]
     },
     "execution_count": 105,
     "metadata": {},
     "output_type": "execute_result"
    }
   ],
   "source": [
    "stats.mannwhitneyu(dane_1.iloc[:,3], dane_1.iloc[:,4], alternative='two-sided')"
   ]
  },
  {
   "cell_type": "markdown",
   "metadata": {},
   "source": [
    "Mimo różnicy w średnich i medianach stóp zwrotu wynik testu U Manna–Whitneya nie daje podstaw do odrzucenia hipotezy zerowej. Oznacza to, że w badanym okresie stopy zwrotu małych spółek nie różniły się istotnie od szerokiego rynku akcji."
   ]
  },
  {
   "cell_type": "markdown",
   "metadata": {},
   "source": [
    "## <div style=\"text-align: center;\">Efekt dywidend</div>\n",
    "Aby zbadać efekt dywidend przeprowadzono testy na przykładowych spółkach, które zmniejszyły lub zaniechały wypłaty dywidendy w swoich historiach. Poniższa analiza została przeprowadzona jedynie na cenach akcji spółek. Tak jak poprzednio obliczenia bazują na danych otwarcia w interwale tygodniowym."
   ]
  },
  {
   "cell_type": "markdown",
   "metadata": {},
   "source": [
    "### Izostal\n",
    "Pierwszą badaną spółką był Izostal w okresie od 11.01.2011 do 31.10.2022. W tym czasie spółka wypłacała rosnącą dywidendę za lata: 2011-2012, 2016-2018 i 2019-2021. W latach 2013-2014 i 2019 zmniejszała swoją dywidendę a za rok 2015 spółka zdecydowała się nie dzielić zyskiem z akcjonariuszami."
   ]
  },
  {
   "cell_type": "markdown",
   "metadata": {},
   "source": [
    "![izs_1](izostal.png)\n",
    "![izs_1](izostal_2.png)"
   ]
  },
  {
   "cell_type": "markdown",
   "metadata": {},
   "source": [
    "Za daty kluczowe uznano dni uchwał zarządu, ponieważ nie znaleziono sytuacji aby walne zgromadzenie ich nie zaakceptowało. Zostały opracowane 3 zmienne binarne o które oparto zmienne interakcyjne:\n",
    "1. Dla sytuacji gdy inwestorzy otrzymują informacje o braku wypłacanej dywidendy.\n",
    "2. Dla sytuacji gdy inwestorzy otrzymują informacje o rozpoczęciu wypłacania dywidendy, dywidendzie rosnącej lub utrzymaniu dywidendy na poprzednim poziomie.\n",
    "3. Gdy inwestorzy otrzymują informacje o dywidendzie malejącej."
   ]
  },
  {
   "cell_type": "code",
   "execution_count": 74,
   "metadata": {},
   "outputs": [
    {
     "data": {
      "text/html": [
       "<div>\n",
       "<style scoped>\n",
       "    .dataframe tbody tr th:only-of-type {\n",
       "        vertical-align: middle;\n",
       "    }\n",
       "\n",
       "    .dataframe tbody tr th {\n",
       "        vertical-align: top;\n",
       "    }\n",
       "\n",
       "    .dataframe thead th {\n",
       "        text-align: right;\n",
       "    }\n",
       "</style>\n",
       "<table border=\"1\" class=\"dataframe\">\n",
       "  <thead>\n",
       "    <tr style=\"text-align: right;\">\n",
       "      <th></th>\n",
       "      <th>Data</th>\n",
       "      <th>Otwarcie</th>\n",
       "    </tr>\n",
       "  </thead>\n",
       "  <tbody>\n",
       "    <tr>\n",
       "      <th>0</th>\n",
       "      <td>2011-01-16</td>\n",
       "      <td>6.799862</td>\n",
       "    </tr>\n",
       "    <tr>\n",
       "      <th>1</th>\n",
       "      <td>2011-01-23</td>\n",
       "      <td>6.999891</td>\n",
       "    </tr>\n",
       "    <tr>\n",
       "      <th>2</th>\n",
       "      <td>2011-01-30</td>\n",
       "      <td>8.369872</td>\n",
       "    </tr>\n",
       "    <tr>\n",
       "      <th>3</th>\n",
       "      <td>2011-02-06</td>\n",
       "      <td>8.200116</td>\n",
       "    </tr>\n",
       "    <tr>\n",
       "      <th>4</th>\n",
       "      <td>2011-02-13</td>\n",
       "      <td>7.700091</td>\n",
       "    </tr>\n",
       "  </tbody>\n",
       "</table>\n",
       "</div>"
      ],
      "text/plain": [
       "        Data  Otwarcie\n",
       "0 2011-01-16  6.799862\n",
       "1 2011-01-23  6.999891\n",
       "2 2011-01-30  8.369872\n",
       "3 2011-02-06  8.200116\n",
       "4 2011-02-13  7.700091"
      ]
     },
     "execution_count": 74,
     "metadata": {},
     "output_type": "execute_result"
    }
   ],
   "source": [
    "izs = pd.read_excel(\"Dane.xlsx\", sheet_name=\"izs\")\n",
    "izs.head()"
   ]
  },
  {
   "cell_type": "code",
   "execution_count": 75,
   "metadata": {},
   "outputs": [
    {
     "data": {
      "text/html": [
       "<div>\n",
       "<style scoped>\n",
       "    .dataframe tbody tr th:only-of-type {\n",
       "        vertical-align: middle;\n",
       "    }\n",
       "\n",
       "    .dataframe tbody tr th {\n",
       "        vertical-align: top;\n",
       "    }\n",
       "\n",
       "    .dataframe thead th {\n",
       "        text-align: right;\n",
       "    }\n",
       "</style>\n",
       "<table border=\"1\" class=\"dataframe\">\n",
       "  <thead>\n",
       "    <tr style=\"text-align: right;\">\n",
       "      <th></th>\n",
       "      <th>Data</th>\n",
       "      <th>Otwarcie</th>\n",
       "      <th>r_izs</th>\n",
       "    </tr>\n",
       "  </thead>\n",
       "  <tbody>\n",
       "    <tr>\n",
       "      <th>1</th>\n",
       "      <td>2011-01-23</td>\n",
       "      <td>6.999891</td>\n",
       "      <td>0.028992</td>\n",
       "    </tr>\n",
       "    <tr>\n",
       "      <th>2</th>\n",
       "      <td>2011-01-30</td>\n",
       "      <td>8.369872</td>\n",
       "      <td>0.178744</td>\n",
       "    </tr>\n",
       "    <tr>\n",
       "      <th>3</th>\n",
       "      <td>2011-02-06</td>\n",
       "      <td>8.200116</td>\n",
       "      <td>-0.020490</td>\n",
       "    </tr>\n",
       "    <tr>\n",
       "      <th>4</th>\n",
       "      <td>2011-02-13</td>\n",
       "      <td>7.700091</td>\n",
       "      <td>-0.062916</td>\n",
       "    </tr>\n",
       "    <tr>\n",
       "      <th>5</th>\n",
       "      <td>2011-02-20</td>\n",
       "      <td>7.519939</td>\n",
       "      <td>-0.023674</td>\n",
       "    </tr>\n",
       "  </tbody>\n",
       "</table>\n",
       "</div>"
      ],
      "text/plain": [
       "        Data  Otwarcie     r_izs\n",
       "1 2011-01-23  6.999891  0.028992\n",
       "2 2011-01-30  8.369872  0.178744\n",
       "3 2011-02-06  8.200116 -0.020490\n",
       "4 2011-02-13  7.700091 -0.062916\n",
       "5 2011-02-20  7.519939 -0.023674"
      ]
     },
     "execution_count": 75,
     "metadata": {},
     "output_type": "execute_result"
    }
   ],
   "source": [
    "izs[\"r_izs\"] = np.log(izs.iloc[:,1] / izs.iloc[:,1].shift(1))\n",
    "izs = izs.dropna()\n",
    "izs.head()"
   ]
  },
  {
   "cell_type": "code",
   "execution_count": 76,
   "metadata": {},
   "outputs": [
    {
     "data": {
      "text/html": [
       "<div>\n",
       "<style scoped>\n",
       "    .dataframe tbody tr th:only-of-type {\n",
       "        vertical-align: middle;\n",
       "    }\n",
       "\n",
       "    .dataframe tbody tr th {\n",
       "        vertical-align: top;\n",
       "    }\n",
       "\n",
       "    .dataframe thead th {\n",
       "        text-align: right;\n",
       "    }\n",
       "</style>\n",
       "<table border=\"1\" class=\"dataframe\">\n",
       "  <thead>\n",
       "    <tr style=\"text-align: right;\">\n",
       "      <th></th>\n",
       "      <th>Data</th>\n",
       "      <th>Otwarcie</th>\n",
       "      <th>r_izs</th>\n",
       "      <th>d_ros</th>\n",
       "      <th>d_mal</th>\n",
       "      <th>d_brak</th>\n",
       "    </tr>\n",
       "  </thead>\n",
       "  <tbody>\n",
       "    <tr>\n",
       "      <th>1</th>\n",
       "      <td>2011-01-23</td>\n",
       "      <td>6.999891</td>\n",
       "      <td>0.028992</td>\n",
       "      <td>0</td>\n",
       "      <td>0</td>\n",
       "      <td>0</td>\n",
       "    </tr>\n",
       "    <tr>\n",
       "      <th>2</th>\n",
       "      <td>2011-01-30</td>\n",
       "      <td>8.369872</td>\n",
       "      <td>0.178744</td>\n",
       "      <td>0</td>\n",
       "      <td>0</td>\n",
       "      <td>0</td>\n",
       "    </tr>\n",
       "    <tr>\n",
       "      <th>3</th>\n",
       "      <td>2011-02-06</td>\n",
       "      <td>8.200116</td>\n",
       "      <td>-0.020490</td>\n",
       "      <td>0</td>\n",
       "      <td>0</td>\n",
       "      <td>0</td>\n",
       "    </tr>\n",
       "    <tr>\n",
       "      <th>4</th>\n",
       "      <td>2011-02-13</td>\n",
       "      <td>7.700091</td>\n",
       "      <td>-0.062916</td>\n",
       "      <td>0</td>\n",
       "      <td>0</td>\n",
       "      <td>0</td>\n",
       "    </tr>\n",
       "    <tr>\n",
       "      <th>5</th>\n",
       "      <td>2011-02-20</td>\n",
       "      <td>7.519939</td>\n",
       "      <td>-0.023674</td>\n",
       "      <td>0</td>\n",
       "      <td>0</td>\n",
       "      <td>0</td>\n",
       "    </tr>\n",
       "  </tbody>\n",
       "</table>\n",
       "</div>"
      ],
      "text/plain": [
       "        Data  Otwarcie     r_izs  d_ros  d_mal  d_brak\n",
       "1 2011-01-23  6.999891  0.028992      0      0       0\n",
       "2 2011-01-30  8.369872  0.178744      0      0       0\n",
       "3 2011-02-06  8.200116 -0.020490      0      0       0\n",
       "4 2011-02-13  7.700091 -0.062916      0      0       0\n",
       "5 2011-02-20  7.519939 -0.023674      0      0       0"
      ]
     },
     "execution_count": 76,
     "metadata": {},
     "output_type": "execute_result"
    }
   ],
   "source": [
    "izs[\"d_ros\"] = 0\n",
    "izs[\"d_mal\"] = 0\n",
    "izs[\"d_brak\"] = 0\n",
    "izs.head()"
   ]
  },
  {
   "cell_type": "code",
   "execution_count": 77,
   "metadata": {},
   "outputs": [
    {
     "data": {
      "text/html": [
       "<div>\n",
       "<style scoped>\n",
       "    .dataframe tbody tr th:only-of-type {\n",
       "        vertical-align: middle;\n",
       "    }\n",
       "\n",
       "    .dataframe tbody tr th {\n",
       "        vertical-align: top;\n",
       "    }\n",
       "\n",
       "    .dataframe thead th {\n",
       "        text-align: right;\n",
       "    }\n",
       "</style>\n",
       "<table border=\"1\" class=\"dataframe\">\n",
       "  <thead>\n",
       "    <tr style=\"text-align: right;\">\n",
       "      <th></th>\n",
       "      <th>Data</th>\n",
       "      <th>Otwarcie</th>\n",
       "      <th>r_izs</th>\n",
       "      <th>d_ros</th>\n",
       "      <th>d_mal</th>\n",
       "      <th>d_brak</th>\n",
       "    </tr>\n",
       "  </thead>\n",
       "  <tbody>\n",
       "    <tr>\n",
       "      <th>1</th>\n",
       "      <td>2011-01-17</td>\n",
       "      <td>6.999891</td>\n",
       "      <td>0.028992</td>\n",
       "      <td>0</td>\n",
       "      <td>0</td>\n",
       "      <td>0</td>\n",
       "    </tr>\n",
       "    <tr>\n",
       "      <th>2</th>\n",
       "      <td>2011-01-24</td>\n",
       "      <td>8.369872</td>\n",
       "      <td>0.178744</td>\n",
       "      <td>0</td>\n",
       "      <td>0</td>\n",
       "      <td>0</td>\n",
       "    </tr>\n",
       "    <tr>\n",
       "      <th>3</th>\n",
       "      <td>2011-01-31</td>\n",
       "      <td>8.200116</td>\n",
       "      <td>-0.020490</td>\n",
       "      <td>0</td>\n",
       "      <td>0</td>\n",
       "      <td>0</td>\n",
       "    </tr>\n",
       "    <tr>\n",
       "      <th>4</th>\n",
       "      <td>2011-02-07</td>\n",
       "      <td>7.700091</td>\n",
       "      <td>-0.062916</td>\n",
       "      <td>0</td>\n",
       "      <td>0</td>\n",
       "      <td>0</td>\n",
       "    </tr>\n",
       "    <tr>\n",
       "      <th>5</th>\n",
       "      <td>2011-02-14</td>\n",
       "      <td>7.519939</td>\n",
       "      <td>-0.023674</td>\n",
       "      <td>0</td>\n",
       "      <td>0</td>\n",
       "      <td>0</td>\n",
       "    </tr>\n",
       "  </tbody>\n",
       "</table>\n",
       "</div>"
      ],
      "text/plain": [
       "        Data  Otwarcie     r_izs  d_ros  d_mal  d_brak\n",
       "1 2011-01-17  6.999891  0.028992      0      0       0\n",
       "2 2011-01-24  8.369872  0.178744      0      0       0\n",
       "3 2011-01-31  8.200116 -0.020490      0      0       0\n",
       "4 2011-02-07  7.700091 -0.062916      0      0       0\n",
       "5 2011-02-14  7.519939 -0.023674      0      0       0"
      ]
     },
     "execution_count": 77,
     "metadata": {},
     "output_type": "execute_result"
    }
   ],
   "source": [
    "#stooq zawsze podaje niedzielę przy danych tygodniowych. Jako że bazujemy na danych otwarcia należy cofnąć daty do poniedziałku\n",
    "izs[\"Data\"] = izs[\"Data\"] - timedelta(days=6)\n",
    "izs.head()"
   ]
  },
  {
   "cell_type": "code",
   "execution_count": 78,
   "metadata": {},
   "outputs": [
    {
     "name": "stdout",
     "output_type": "stream",
     "text": [
      "341\n",
      "157\n",
      "116\n"
     ]
    }
   ],
   "source": [
    "izs.loc[izs[\"Data\"] <= \"2012-03-27\", \"d_brak\"] = 1\n",
    "izs.loc[(izs[\"Data\"] >= \"2012-03-28\") & (izs[\"Data\"] <= \"2014-03-13\"), \"d_ros\"] = 1\n",
    "izs.loc[(izs[\"Data\"] >= \"2014-03-14\") & (izs[\"Data\"] <= \"2016-03-13\"), \"d_mal\"] = 1\n",
    "izs.loc[(izs[\"Data\"] >= \"2016-03-14\") & (izs[\"Data\"] <= \"2017-03-19\"), \"d_brak\"] = 1\n",
    "izs.loc[(izs[\"Data\"] >= \"2017-03-20\") & (izs[\"Data\"] <= \"2020-03-16\"), \"d_ros\"] = 1\n",
    "izs.loc[(izs[\"Data\"] >= \"2020-03-17\") & (izs[\"Data\"] <= \"2021-03-23\"), \"d_mal\"] = 1\n",
    "izs.loc[izs[\"Data\"] >= \"2021-03-24\", \"d_ros\"] = 1\n",
    "print(sum(izs[\"d_ros\"]))\n",
    "print(sum(izs[\"d_mal\"]))\n",
    "print(sum(izs[\"d_brak\"]))"
   ]
  },
  {
   "cell_type": "code",
   "execution_count": 79,
   "metadata": {},
   "outputs": [
    {
     "name": "stdout",
     "output_type": "stream",
     "text": [
      "Średnia ogólna: -0.175 %, mediana: -0.416 %\n",
      "Średnia rosnących dywidend: -0.488 %, mediana: -0.645 %\n",
      "Średnia malejących dywidend: 0.049 %, mediana: -0.401 %\n",
      "Średnia gdy brak dywidend: 0.443 %, mediana: 0.0 %\n"
     ]
    }
   ],
   "source": [
    "izs[\"r_ros\"] = izs[\"r_izs\"] * izs[\"d_ros\"][izs[\"d_ros\"] != 0]\n",
    "izs[\"r_mal\"] = izs[\"r_izs\"] * izs[\"d_mal\"][izs[\"d_mal\"] != 0]\n",
    "izs[\"r_brak\"] = izs[\"r_izs\"] * izs[\"d_brak\"][izs[\"d_brak\"] != 0]\n",
    "print(f'Średnia ogólna: {round(np.mean(izs[\"r_izs\"])*100,3)} %, mediana: {round(np.nanmedian(izs[\"r_izs\"])*100,3)} %')\n",
    "print(f'Średnia rosnących dywidend: {round(np.mean(izs[\"r_ros\"])*100,3)} %, mediana: {round(np.nanmedian(izs[\"r_ros\"])*100,3)} %')\n",
    "print(f'Średnia malejących dywidend: {round(np.mean(izs[\"r_mal\"])*100,3)} %, mediana: {round(np.nanmedian(izs[\"r_mal\"])*100,3)} %')\n",
    "print(f'Średnia gdy brak dywidend: {round(np.mean(izs[\"r_brak\"])*100,3)} %, mediana: {round(np.nanmedian(izs[\"r_brak\"])*100,3)} %')"
   ]
  },
  {
   "cell_type": "markdown",
   "metadata": {},
   "source": [
    "Średnia stopa zwrotu w okresie kiedy spółka wypłacała dywidendy była średnio mniejsza (nawet ujemna) w porównaniu do okresu malejącej dywidendy lub braku jej wypłacania. Przed porównaniem rozkładów między sobą wykonano test Kołmogorowa-Smirnowa, aby sprawdzić czy można wykorzystać metody parametryczne."
   ]
  },
  {
   "cell_type": "markdown",
   "metadata": {},
   "source": [
    "#### Test Kołmogorowa-Smirnowa\n",
    "Hipotezy testu:\n",
    "\n",
    "H0: Dane pochodzą z rozkładu normalnego\n",
    "\n",
    "H1: Dane nie pochodzą z rozkładu normalnego"
   ]
  },
  {
   "cell_type": "code",
   "execution_count": 106,
   "metadata": {},
   "outputs": [
    {
     "name": "stdout",
     "output_type": "stream",
     "text": [
      "KstestResult(statistic=0.4533197474102903, pvalue=1.5955045559996047e-64)\n",
      "KstestResult(statistic=0.4496860848724521, pvalue=1.7184153671363443e-29)\n",
      "KstestResult(statistic=0.4536490589418229, pvalue=2.5147336363365512e-22)\n"
     ]
    }
   ],
   "source": [
    "print(stats.kstest(izs[\"r_ros\"].dropna(), 'norm'))\n",
    "print(stats.kstest(izs[\"r_mal\"].dropna(), 'norm'))\n",
    "print(stats.kstest(izs[\"r_brak\"].dropna(), 'norm'))"
   ]
  },
  {
   "cell_type": "markdown",
   "metadata": {},
   "source": [
    "Wszystkie rozkład wszytskich zmiennych jest istotnie różny od normalnego, co oznacza że róznież na tych zmiennych należy przeprowadzić test U Manna–Whitneya."
   ]
  },
  {
   "cell_type": "markdown",
   "metadata": {},
   "source": [
    "#### Test rangowy U Manna–Whitneya\n",
    "Hipotezy testu:\n",
    "\n",
    "H0: Rozkład obu populacji jest nieistotnie różny.\n",
    "\n",
    "H1: Rozkład obu populacji jest istotnie różny."
   ]
  },
  {
   "cell_type": "code",
   "execution_count": 107,
   "metadata": {},
   "outputs": [
    {
     "name": "stdout",
     "output_type": "stream",
     "text": [
      "MannwhitneyuResult(statistic=25383.5, pvalue=0.35341953086906475)\n",
      "MannwhitneyuResult(statistic=17040.0, pvalue=0.025871565444659572)\n"
     ]
    }
   ],
   "source": [
    "print(stats.mannwhitneyu(izs[\"r_ros\"].dropna(), izs[\"r_mal\"].dropna(), alternative='two-sided'))\n",
    "print(stats.mannwhitneyu(izs[\"r_ros\"].dropna(), izs[\"r_brak\"].dropna(), alternative='two-sided'))"
   ]
  },
  {
   "cell_type": "markdown",
   "metadata": {},
   "source": [
    "Testy U Manna-Whitneya wykazał że występuje istotna różnica między rozkładami stóp zwrotu w okresie rosnących dywidend i braku ich wypłacania. Jednak biorąc pod uwagę medianę i średnią stóp zwrotu - nie możemy potwierdzić istnienia efektu dywidend - a raczej wpływ odwrotny."
   ]
  },
  {
   "cell_type": "markdown",
   "metadata": {},
   "source": [
    "### KGHM\n",
    "Drugą analizowaną spółką jest KGHM Polska Miedź w okresie od 1.01.2003 do 31.10.2022. Spółka mimo że jest notowana na giełdzie od 1997 roku to raporty bieżące na jej stronie są dostępne od 2005. Ponadto postanowiono do badania włączyć rok 2003 i 2004 aby powiększyć próbę okresu gdy firma nie dzieliła się zyskiem z akcjonariuszami.\n",
    "\n",
    "W analizowanym czasie dywidenda rosła za lata 2004-2006, 2007-2008, 2009-2011 i 2020-2021 oraz malała za lata 2007, 2009, 2012-2016. Poniżej w tabeli podano kluczowe daty w historii wypłacania i zmiany dywidendy przez spółkę:"
   ]
  },
  {
   "cell_type": "markdown",
   "metadata": {},
   "source": [
    "![kghm](kghm.png)\n",
    "![kghm_2](kghm_2.png)"
   ]
  },
  {
   "cell_type": "markdown",
   "metadata": {},
   "source": [
    "W przypadku spółki KGHM ustalono granice zmiennych binarnych na bazie uchwał zgromadzenia akcjonariuszy. Jest to spowodowane zaobserwowaniem, że w sprawie wielkości wypłat dywidendy często występowała różnica między rekomendacjami zarządu, a późniejszymi uchwałami walnego zgromadzenia. Poza tym zmienne binarne i interakcyjne zostały opracowane analogicznie jak dla spółki Izostal."
   ]
  },
  {
   "cell_type": "code",
   "execution_count": 82,
   "metadata": {},
   "outputs": [],
   "source": [
    "kghm = pd.read_excel(\"Dane.xlsx\", sheet_name=\"kgh\")"
   ]
  },
  {
   "cell_type": "code",
   "execution_count": 83,
   "metadata": {},
   "outputs": [],
   "source": [
    "kghm[\"r_izs\"] = np.log(kghm.iloc[:,1] / kghm.iloc[:,1].shift(1))\n",
    "kghm = kghm.dropna()"
   ]
  },
  {
   "cell_type": "code",
   "execution_count": 84,
   "metadata": {},
   "outputs": [],
   "source": [
    "kghm[\"d_ros\"] = 0\n",
    "kghm[\"d_mal\"] = 0\n",
    "kghm[\"d_brak\"] = 0"
   ]
  },
  {
   "cell_type": "code",
   "execution_count": 85,
   "metadata": {},
   "outputs": [],
   "source": [
    "#stooq zawsze podaje niedzielę przy danych tygodniowych. Jako że bazujemy na danych otwarcia należy cofnąć daty do poniedziałku\n",
    "kghm[\"Data\"] = kghm[\"Data\"] - timedelta(days=6)"
   ]
  },
  {
   "cell_type": "code",
   "execution_count": 86,
   "metadata": {},
   "outputs": [
    {
     "name": "stdout",
     "output_type": "stream",
     "text": [
      "384\n",
      "371\n",
      "280\n"
     ]
    }
   ],
   "source": [
    "kghm.loc[kghm[\"Data\"] <= \"2005-06-14\", \"d_brak\"] = 1\n",
    "kghm.loc[(kghm[\"Data\"] >= \"2005-06-14\") & (kghm[\"Data\"] <= \"2008-06-25\"), \"d_ros\"] = 1\n",
    "kghm.loc[(kghm[\"Data\"] >= \"2008-06-26\") & (kghm[\"Data\"] <= \"2009-06-15\"), \"d_mal\"] = 1\n",
    "kghm.loc[(kghm[\"Data\"] >= \"2009-06-16\") & (kghm[\"Data\"] <= \"2010-05-15\"), \"d_ros\"] = 1\n",
    "kghm.loc[(kghm[\"Data\"] >= \"2010-05-16\") & (kghm[\"Data\"] <= \"2011-06-15\"), \"d_mal\"] = 1\n",
    "kghm.loc[(kghm[\"Data\"] >= \"2011-06-16\") & (kghm[\"Data\"] <= \"2013-06-18\"), \"d_ros\"] = 1\n",
    "kghm.loc[(kghm[\"Data\"] >= \"2013-06-19\") & (kghm[\"Data\"] <= \"2018-07-05\"), \"d_mal\"] = 1\n",
    "kghm.loc[(kghm[\"Data\"] >= \"2018-07-06\") & (kghm[\"Data\"] <= \"2021-06-06\"), \"d_brak\"] = 1\n",
    "kghm.loc[kghm[\"Data\"] >= \"2021-06-07\", \"d_ros\"] = 1\n",
    "print(sum(kghm[\"d_ros\"]))\n",
    "print(sum(kghm[\"d_mal\"]))\n",
    "print(sum(kghm[\"d_brak\"]))"
   ]
  },
  {
   "cell_type": "code",
   "execution_count": 87,
   "metadata": {},
   "outputs": [
    {
     "name": "stdout",
     "output_type": "stream",
     "text": [
      "Średnia ogólna: 0.187 %, mediana: 0.219 %\n",
      "Średnia rosnących dywidend: 0.096 %, mediana: 0.0 %\n",
      "Średnia malejących dywidend: -0.037 %, mediana: 0.0 %\n",
      "Średnia gdy brak dywidend: 0.608 %, mediana: 0.694 %\n"
     ]
    }
   ],
   "source": [
    "kghm[\"r_ros\"] = kghm[\"r_izs\"] * kghm[\"d_ros\"][kghm[\"d_ros\"] != 0]\n",
    "kghm[\"r_mal\"] = kghm[\"r_izs\"] * kghm[\"d_mal\"][kghm[\"d_mal\"] != 0]\n",
    "kghm[\"r_brak\"] = kghm[\"r_izs\"] * kghm[\"d_brak\"][kghm[\"d_brak\"] != 0]\n",
    "print(f'Średnia ogólna: {round(np.mean(kghm[\"r_izs\"])*100,3)} %, mediana: {round(np.nanmedian(kghm[\"r_izs\"])*100,3)} %')\n",
    "print(f'Średnia rosnących dywidend: {round(np.mean(kghm[\"r_ros\"])*100,3)} %, mediana: {round(np.nanmedian(kghm[\"r_ros\"])*100,3)} %')\n",
    "print(f'Średnia malejących dywidend: {round(np.mean(kghm[\"r_mal\"])*100,3)} %, mediana: {round(np.nanmedian(kghm[\"r_mal\"])*100,3)} %')\n",
    "print(f'Średnia gdy brak dywidend: {round(np.mean(kghm[\"r_brak\"])*100,3)} %, mediana: {round(np.nanmedian(kghm[\"r_brak\"])*100,3)} %')"
   ]
  },
  {
   "cell_type": "markdown",
   "metadata": {},
   "source": [
    "Spółka KGHM notowała przeciętnie najwyżse stopy zwrotu w okresie gdy nie wypłacała dywidendy, a najniższe gdy spółka wypłacała malejące dywidendy. Należy jednak - podobnie jak poprzednio - sprawdzić czy można zastosować metody parametryczne do porównania wartości zmiennych."
   ]
  },
  {
   "cell_type": "markdown",
   "metadata": {},
   "source": [
    "#### Test Kołmogorowa-Smirnowa\n",
    "Hipotezy testu:\n",
    "\n",
    "H0: Dane pochodzą z rozkładu normalnego\n",
    "\n",
    "H1: Dane nie pochodzą z rozkładu normalnego"
   ]
  },
  {
   "cell_type": "code",
   "execution_count": 88,
   "metadata": {},
   "outputs": [
    {
     "name": "stdout",
     "output_type": "stream",
     "text": [
      "KstestResult(statistic=0.44006846832202007, pvalue=3.1740939407444626e-68)\n",
      "KstestResult(statistic=0.4330287912929066, pvalue=9.425526114034487e-64)\n",
      "KstestResult(statistic=0.44360247876465725, pvalue=1.000621478616406e-50)\n"
     ]
    }
   ],
   "source": [
    "print(stats.kstest(kghm[\"r_ros\"].dropna(), 'norm'))\n",
    "print(stats.kstest(kghm[\"r_mal\"].dropna(), 'norm'))\n",
    "print(stats.kstest(kghm[\"r_brak\"].dropna(), 'norm'))"
   ]
  },
  {
   "cell_type": "markdown",
   "metadata": {},
   "source": [
    "Żadna zmienna nie ma rozkładu zbliżonego do normalnego, a zatem ponownie należy użyć testu U Manna-Whitneya."
   ]
  },
  {
   "cell_type": "markdown",
   "metadata": {},
   "source": [
    "#### Test rangowy U Manna–Whitneya\n",
    "Hipotezy testu:\n",
    "\n",
    "H0: Rozkład obu populacji jest nieistotnie różny.\n",
    "\n",
    "H1: Rozkład obu populacji jest istotnie różny."
   ]
  },
  {
   "cell_type": "code",
   "execution_count": 108,
   "metadata": {},
   "outputs": [
    {
     "name": "stdout",
     "output_type": "stream",
     "text": [
      "MannwhitneyuResult(statistic=74122.0, pvalue=0.3347969844759834)\n",
      "MannwhitneyuResult(statistic=51900.0, pvalue=0.44618840218375555)\n"
     ]
    }
   ],
   "source": [
    "print(stats.mannwhitneyu(kghm[\"r_ros\"].dropna(), kghm[\"r_mal\"].dropna(), alternative='two-sided'))\n",
    "print(stats.mannwhitneyu(kghm[\"r_ros\"].dropna(), kghm[\"r_brak\"].dropna(), alternative='two-sided'))"
   ]
  },
  {
   "cell_type": "markdown",
   "metadata": {},
   "source": [
    "Wyniki testu wykazały, że w obu przypadkach nie mamy podstaw do odrzucenia hipotezy zerowej, co oznacza brak istotnego wpływu wypłacanej dywidendy na stopy zwrotu. Tym samym nie możemy uznać, że w przypadku spółki KGHM zachodzi efekt dywidendy."
   ]
  },
  {
   "cell_type": "markdown",
   "metadata": {},
   "source": [
    "## <div style=\"text-align: center;\">Podsumowanie</div>\n",
    "Wynik przeprowadzonych testów nie potwierdza aby w Polsce w badanym okresie na rynku akcji występował słaby rynek efektywny informacyjny, zarówno dla szerokiego rynku akcji jak i małych spółek. Zgodnie z oczekiwaniami potwierdzono, że rynek akcji małych spółek słabiej spełnia założenia efektywności informacyjnej niż szeroki rynek akcji. \n",
    "\n",
    "Rezultat testów stwierdził brak istotnego statystycznie efektu małych spółek. Mimo to należy zaznaczyć, że w skali roku małe spółki notowały stopę zwr. o ok. 4,7 p. p. wyższą od szerokiego rynku akcji.\n",
    "\n",
    "Badania na spółkach Izostal i KGHM nie potwierdziły występowania efektu dywidendy. W przypadku Izostalu zanotowano nawet - istotną statystycznie - odwrotną zależność. Natomiast notowania KGHM w okresie rosnącej dywidendy zapewniały wyższe, choć nieistotne statystycznie wzrosty. Zatem efekt dywidendy również nie został potwierdzony w analizie.\n"
   ]
  },
  {
   "cell_type": "markdown",
   "metadata": {},
   "source": [
    "## <div style=\"text-align: center;\">Źródła i bibliografia</div>\n",
    "Górska Anna, Krawiec Monika, *Badanie efektywności informacyjnej w formie słabej na rynku metali szlachetnych*, Zeszyty Naukowe Uniwersytetu Szczecińskiego, nr. 768, 2013, s. 143 - 156 (dostęp: http://www2.wneiz.pl/nauka_wneiz/frfu/63-2013/FRFU-63-143.pdf, 22.11.2022)\n",
    "\n",
    "Ślepaczuk Robert, *Anomalie rynku kapitałowego w świetle hipotezy efektywności rynku*, Finansowy kwartalnik internetowy, 2006 (dostęp: https://finquarterly.com/archives/?page=wpabstracts&tab=attachments&task=download&type=attachment&id=771, 22.11.2022)\n",
    "\n",
    "Węgrzyn Ryszard, *Problemy efektywności rynku kapitałowego, Zeszyty Naukowe Akademii Ekonomicznej w Krakowie, nr 543, 2000*, s. 65 - 78, (dostep: https://r.uek.krakow.pl/jspui/handle/123456789/2232, 22.11.2022)\n",
    "\n",
    "Wyniki Spółek Skarbu Państwa w III kwartale 2021 r., Grudzień 2021,  https://www.gov.pl/web/aktywa-panstwowe/raport-map-wyniki-spolek-z-udzialem-skarbu-panstwa-notowanych-na-gieldzie-w-iii-kwartale-2021-r (dostęp: 26.11.2022)\n",
    "\n",
    "Informacja o stanie rynku emerytalnego w Polsce na koniec 2021 r., Warszawa, lipiec 2022 r., https://www.knf.gov.pl/knf/pl/komponenty/img/Informacja_o_stanie_rynku_emerytalnego_w_Polsce_2021_79097.pdf (dostęp: 26.11.2022)\n",
    "\n",
    "https://gpwbenchmark.pl/opisy-indeksow (dostęp: 26.11.2022)\n",
    "\n",
    "https://strefainwestorow.pl/ (dostęp: 27.11.2022)\n",
    "\n",
    "https://www.izostal.com.pl/raporty--/raporty-biezace/ (dostęp: 27.11.2022)\n",
    "\n",
    "https://kghm.com/pl/inwestorzy/centrum-wynikow/raporty-biezace (dostęp: 27.11.2022)"
   ]
  }
 ],
 "metadata": {
  "kernelspec": {
   "display_name": "Python 3 (ipykernel)",
   "language": "python",
   "name": "python3"
  },
  "language_info": {
   "codemirror_mode": {
    "name": "ipython",
    "version": 3
   },
   "file_extension": ".py",
   "mimetype": "text/x-python",
   "name": "python",
   "nbconvert_exporter": "python",
   "pygments_lexer": "ipython3",
   "version": "3.9.13"
  }
 },
 "nbformat": 4,
 "nbformat_minor": 4
}
